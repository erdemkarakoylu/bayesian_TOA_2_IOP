{
 "cells": [
  {
   "cell_type": "code",
   "execution_count": 1,
   "metadata": {},
   "outputs": [],
   "source": [
    "from pathlib import Path\n",
    "\n",
    "import numpy as np\n",
    "import pandas as pd\n",
    "\n",
    "import matplotlib.pyplot as pp\n",
    "import seaborn as sb"
   ]
  },
  {
   "cell_type": "code",
   "execution_count": 2,
   "metadata": {},
   "outputs": [],
   "source": [
    "project_path = Path.cwd()\n",
    "data_path = project_path / 'data'\n",
    "col_reduced_data_path = data_path / 'reduced_columns' / 'nomad_2008_2012'"
   ]
  },
  {
   "cell_type": "code",
   "execution_count": 3,
   "metadata": {},
   "outputs": [],
   "source": [
    "df_toa = pd.read_parquet(col_reduced_data_path / 'df_toa.pqt')\n",
    "df_env = pd.read_parquet(col_reduced_data_path / 'df_env.pqt')\n",
    "df_y = pd.read_parquet(col_reduced_data_path / 'df_targets.pqt')"
   ]
  },
  {
   "cell_type": "code",
   "execution_count": 4,
   "metadata": {},
   "outputs": [
    {
     "name": "stdout",
     "output_type": "stream",
     "text": [
      "<class 'pandas.core.frame.DataFrame'>\n",
      "RangeIndex: 496 entries, 0 to 495\n",
      "Data columns (total 12 columns):\n",
      " #   Column       Non-Null Count  Dtype  \n",
      "---  ------       --------------  -----  \n",
      " 0   sat_lt412    496 non-null    float64\n",
      " 1   sat_lt443    496 non-null    float64\n",
      " 2   sat_lt490    496 non-null    float64\n",
      " 3   sat_lt510    496 non-null    float64\n",
      " 4   sat_lt555    496 non-null    float64\n",
      " 5   sat_lt670    496 non-null    float64\n",
      " 6   sat_rhot412  496 non-null    float64\n",
      " 7   sat_rhot443  496 non-null    float64\n",
      " 8   sat_rhot490  496 non-null    float64\n",
      " 9   sat_rhot510  496 non-null    float64\n",
      " 10  sat_rhot555  496 non-null    float64\n",
      " 11  sat_rhot670  496 non-null    float64\n",
      "dtypes: float64(12)\n",
      "memory usage: 46.6 KB\n"
     ]
    }
   ],
   "source": [
    "df_toa.info()"
   ]
  },
  {
   "cell_type": "code",
   "execution_count": null,
   "metadata": {},
   "outputs": [],
   "source": [
    "df_toa = df_toa.filter(like='_rhot', )"
   ]
  },
  {
   "cell_type": "code",
   "execution_count": 7,
   "metadata": {},
   "outputs": [
    {
     "name": "stdout",
     "output_type": "stream",
     "text": [
      "<class 'pandas.core.frame.DataFrame'>\n",
      "RangeIndex: 496 entries, 0 to 495\n",
      "Data columns (total 6 columns):\n",
      " #   Column  Non-Null Count  Dtype  \n",
      "---  ------  --------------  -----  \n",
      " 0   lat     496 non-null    float64\n",
      " 1   lon     496 non-null    float64\n",
      " 2   id      496 non-null    int64  \n",
      " 3   oisst   496 non-null    float64\n",
      " 4   etopo2  496 non-null    float64\n",
      " 5   cruise  496 non-null    object \n",
      "dtypes: float64(4), int64(1), object(1)\n",
      "memory usage: 23.4+ KB\n"
     ]
    }
   ],
   "source": [
    "df_env.info()"
   ]
  },
  {
   "cell_type": "code",
   "execution_count": 15,
   "metadata": {},
   "outputs": [
    {
     "name": "stdout",
     "output_type": "stream",
     "text": [
      "<class 'pandas.core.frame.DataFrame'>\n",
      "RangeIndex: 496 entries, 0 to 495\n",
      "Data columns (total 10 columns):\n",
      " #   Column  Non-Null Count  Dtype  \n",
      "---  ------  --------------  -----  \n",
      " 0   chl     365 non-null    float64\n",
      " 1   chl_a   158 non-null    float64\n",
      " 2   ad411   166 non-null    float64\n",
      " 3   ad443   168 non-null    float64\n",
      " 4   ad489   168 non-null    float64\n",
      " 5   ad510   168 non-null    float64\n",
      " 6   ap411   166 non-null    float64\n",
      " 7   ap443   168 non-null    float64\n",
      " 8   ap489   168 non-null    float64\n",
      " 9   ap510   168 non-null    float64\n",
      "dtypes: float64(10)\n",
      "memory usage: 38.9 KB\n"
     ]
    }
   ],
   "source": [
    "df_y.info()"
   ]
  },
  {
   "cell_type": "code",
   "execution_count": null,
   "metadata": {},
   "outputs": [],
   "source": [
    "df_y_chl = df_y.filter(axis=1, like='chl').copy()\n"
   ]
  },
  {
   "cell_type": "code",
   "execution_count": 14,
   "metadata": {},
   "outputs": [
    {
     "name": "stdout",
     "output_type": "stream",
     "text": [
      "<class 'pandas.core.frame.DataFrame'>\n",
      "Index: 98 entries, 1 to 414\n",
      "Data columns (total 2 columns):\n",
      " #   Column  Non-Null Count  Dtype  \n",
      "---  ------  --------------  -----  \n",
      " 0   chl     98 non-null     float64\n",
      " 1   chl_a   98 non-null     float64\n",
      "dtypes: float64(2)\n",
      "memory usage: 2.3 KB\n"
     ]
    }
   ],
   "source": [
    "df_y_chl.info()"
   ]
  },
  {
   "cell_type": "code",
   "execution_count": null,
   "metadata": {},
   "outputs": [],
   "source": []
  }
 ],
 "metadata": {
  "kernelspec": {
   "display_name": "pymc_base",
   "language": "python",
   "name": "pymc_base"
  },
  "language_info": {
   "codemirror_mode": {
    "name": "ipython",
    "version": 3
   },
   "file_extension": ".py",
   "mimetype": "text/x-python",
   "name": "python",
   "nbconvert_exporter": "python",
   "pygments_lexer": "ipython3",
   "version": "3.12.9"
  }
 },
 "nbformat": 4,
 "nbformat_minor": 2
}
